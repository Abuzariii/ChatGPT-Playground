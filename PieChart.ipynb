{
  "nbformat": 4,
  "nbformat_minor": 0,
  "metadata": {
    "colab": {
      "provenance": []
    },
    "kernelspec": {
      "name": "python3",
      "display_name": "Python 3"
    },
    "language_info": {
      "name": "python"
    },
    "accelerator": "GPU",
    "gpuClass": "standard"
  },
  "cells": [
    {
      "cell_type": "markdown",
      "source": [
        "Welcome to this tutorial on how to make pie charts with matplotlib!\n",
        "\n",
        "Matplotlib is a popular Python library for data visualization, and pie charts are a common way to represent data in the form of proportions or percentages. In this tutorial, we will learn how to create pie charts in matplotlib and customize them to fit our needs.\n",
        "\n",
        "Before we get started, make sure you have matplotlib installed. You can check if it is installed by running the following code:"
      ],
      "metadata": {
        "id": "16sENEZL5Qk5"
      }
    },
    {
      "cell_type": "code",
      "source": [
        "import matplotlib\n",
        "print(matplotlib.__version__)"
      ],
      "metadata": {
        "colab": {
          "base_uri": "https://localhost:8080/"
        },
        "id": "_Dh_mcVL4p2v",
        "outputId": "5d4f6664-ab44-479f-f676-16bccbfb11ca"
      },
      "execution_count": 27,
      "outputs": [
        {
          "output_type": "stream",
          "name": "stdout",
          "text": [
            "3.2.2\n"
          ]
        }
      ]
    },
    {
      "cell_type": "markdown",
      "source": [
        "Now let's get started!"
      ],
      "metadata": {
        "id": "Yb7fZTXo5UkM"
      }
    },
    {
      "cell_type": "markdown",
      "source": [
        "#1. Importing the necessary libraries\n",
        "First, we need to import the necessary libraries for our pie chart. We will need the matplotlib.pyplot library for creating the pie chart, and the random library for generating random data to use in our example."
      ],
      "metadata": {
        "id": "JJFtYSz-5YPF"
      }
    },
    {
      "cell_type": "code",
      "source": [
        "import matplotlib.pyplot as plt\n",
        "import random"
      ],
      "metadata": {
        "id": "xcZ46lzb5AfJ"
      },
      "execution_count": 28,
      "outputs": []
    },
    {
      "cell_type": "markdown",
      "source": [
        "#2. Generating data for the pie chart\n",
        "Next, we need to generate some data for our pie chart. For this example, we will generate random data for five different categories."
      ],
      "metadata": {
        "id": "MjVMBjSx5hcq"
      }
    },
    {
      "cell_type": "code",
      "source": [
        "# Generate random data for 5 categories\n",
        "data = []\n",
        "for i in range(5):\n",
        "  data.append(random.randint(1, 100))"
      ],
      "metadata": {
        "id": "mGTC01y05DNG"
      },
      "execution_count": 29,
      "outputs": []
    },
    {
      "cell_type": "markdown",
      "source": [
        "#3. Creating the pie chart\n",
        "Now that we have our data, we can create the pie chart using the pie() function from the matplotlib.pyplot library. We will pass our data to the pie() function, along with labels for each category."
      ],
      "metadata": {
        "id": "dV6t92bY5kbn"
      }
    },
    {
      "cell_type": "code",
      "source": [
        "# Create pie chart\n",
        "plt.pie(data, labels=[\"Category 1\", \"Category 2\", \"Category 3\", \"Category 4\", \"Category 5\"])"
      ],
      "metadata": {
        "colab": {
          "base_uri": "https://localhost:8080/",
          "height": 422
        },
        "id": "rsrh6eop5EaO",
        "outputId": "1ddac5a8-8fe2-4370-9de7-925ff84c0be7"
      },
      "execution_count": 30,
      "outputs": [
        {
          "output_type": "execute_result",
          "data": {
            "text/plain": [
              "([<matplotlib.patches.Wedge at 0x7f03c80e2280>,\n",
              "  <matplotlib.patches.Wedge at 0x7f03c80e2be0>,\n",
              "  <matplotlib.patches.Wedge at 0x7f03c81030a0>,\n",
              "  <matplotlib.patches.Wedge at 0x7f03c8103520>,\n",
              "  <matplotlib.patches.Wedge at 0x7f03c81039a0>],\n",
              " [Text(0.8782531799697688, 0.6623226946685348, 'Category 1'),\n",
              "  Text(-0.7101906450815022, 0.8400174091283584, 'Category 2'),\n",
              "  Text(-0.6623226946685347, -0.8782531799697688, 'Category 3'),\n",
              "  Text(0.5815248898975898, -0.9337177316671224, 'Category 4'),\n",
              "  Text(1.0469169359383073, -0.3375869210226408, 'Category 5')])"
            ]
          },
          "metadata": {},
          "execution_count": 30
        },
        {
          "output_type": "display_data",
          "data": {
            "text/plain": [
              "<Figure size 432x288 with 1 Axes>"
            ],
            "image/png": "[encoded data removed]"
          },
          "metadata": {}
        }
      ]
    },
    {
      "cell_type": "markdown",
      "source": [
        "#4. Customizing the pie chart\n",
        "We can customize the pie chart to better represent our data. For example, we can add a title to the pie chart and change the colors of the pie slices."
      ],
      "metadata": {
        "id": "2x14oRaH5pa5"
      }
    },
    {
      "cell_type": "code",
      "source": [
        "# Add title and customize colors\n",
        "plt.title(\"Random Data Pie Chart\")\n",
        "plt.pie(data, labels=[\"Category 1\", \"Category 2\", \"Category 3\", \"Category 4\", \"Category 5\"], colors=[\"#1f77b4\", \"#ff7f0e\", \"#2ca02c\", \"#d62728\", \"#9467bd\"])"
      ],
      "metadata": {
        "colab": {
          "base_uri": "https://localhost:8080/",
          "height": 438
        },
        "id": "8swJHvR25F0C",
        "outputId": "caea03e4-2d0c-4039-9e01-831fb94f74a6"
      },
      "execution_count": 31,
      "outputs": [
        {
          "output_type": "execute_result",
          "data": {
            "text/plain": [
              "([<matplotlib.patches.Wedge at 0x7f03c8181820>,\n",
              "  <matplotlib.patches.Wedge at 0x7f03c8181cd0>,\n",
              "  <matplotlib.patches.Wedge at 0x7f03c818f190>,\n",
              "  <matplotlib.patches.Wedge at 0x7f03c818f610>,\n",
              "  <matplotlib.patches.Wedge at 0x7f03c818fa90>],\n",
              " [Text(0.8782531799697688, 0.6623226946685348, 'Category 1'),\n",
              "  Text(-0.7101906450815022, 0.8400174091283584, 'Category 2'),\n",
              "  Text(-0.6623226946685347, -0.8782531799697688, 'Category 3'),\n",
              "  Text(0.5815248898975898, -0.9337177316671224, 'Category 4'),\n",
              "  Text(1.0469169359383073, -0.3375869210226408, 'Category 5')])"
            ]
          },
          "metadata": {},
          "execution_count": 31
        },
        {
          "output_type": "display_data",
          "data": {
            "text/plain": [
              "<Figure size 432x288 with 1 Axes>"
            ],
            "image/png": "[encoded data removed]"
          },
          "metadata": {}
        }
      ]
    }
  ]
}